{
 "cells": [
  {
   "cell_type": "code",
   "execution_count": 17,
   "metadata": {},
   "outputs": [],
   "source": [
    "# Python 3\n",
    "\n",
    "class CuckooMap:\n",
    "\n",
    "\tmaxKnockout = 2000\n",
    "\n",
    "\tdef __init__(self, n):\n",
    "\t\tself.max_size = n\n",
    "\t\tself.bucket_size = 2*n\n",
    "\t\tself.curr_size = 0\n",
    "\t\tself.buckets = [None]*2*n\n",
    "\t\tself.hash_functions = [self.hash_one, self.hash_two]\n",
    "\n",
    "\tdef hash_one(self, key):\n",
    "\t\treturn hash(key) % self.bucket_size\n",
    "\n",
    "\tdef hash_two(self, key):\n",
    "\t\treturn (hash(key) - id(key) - 7) % self.bucket_size\n",
    "\n",
    "\tdef doesNotExceedKnockoutLimit(self, hash_node):\n",
    "\t\ti = 0\n",
    "\t\tcurr_node = hash_node\n",
    "\t\tcurr_index = self.hash_functions[hash_node.getFunction()](hash_node.getKey())\n",
    "\t\twhile i < self.maxKnockout:\n",
    "\t\t\tnext_index = self.hash_functions[1-curr_node.getFunction()](curr_node.getKey())\n",
    "\t\t\tnext_node = self.buckets[next_index]\n",
    "\t\t\tif not next_node:\n",
    "\t\t\t\treturn True\n",
    "\t\t\ti += 1\n",
    "\t\t\tcurr_node = next_node\n",
    "\t\treturn False\n",
    "\n",
    "\tdef _set_helper(self, hash_node):\n",
    "\t\tother_hash_func = self.hash_functions[1 - hash_node.getFunction()]\n",
    "\t\tif self.buckets[other_hash_func(hash_node.getKey())]:\n",
    "\t\t\tother_node = self.buckets[other_hash_func(hash_node.getKey())]\n",
    "\t\t\tself.buckets[other_has_func(hash_node.getKey())] = hash_node\n",
    "\t\t\t_set_helper(other_node)\n",
    "\n",
    "\tdef set(self, key, val):\n",
    "\t\tnode1 = self.buckets[self.hash_one(key)]\n",
    "\t\tnode2 = self.buckets[self.hash_two(key)]\n",
    "\t\tif self.curr_size >= self.max_size:\n",
    "\t\t\tif node1 and node1.getKey() == key:\n",
    "\t\t\t\tnode1.setVal(val)\n",
    "\t\t\telif node2 and node2.getKey() == key:\n",
    "\t\t\t\tnode2.setVal(val)\n",
    "\t\t\telse:\n",
    "\t\t\t\treturn False\n",
    "\t\telse:\n",
    "\t\t\tif node1:\n",
    "\t\t\t\tif node1.getKey() == key:\n",
    "\t\t\t\t\tnode1.setVal(val)\n",
    "\t\t\t\telif not node2:\n",
    "\t\t\t\t\tself.buckets[self.hash_two(key)] = Node(key, val, 1)\n",
    "\t\t\t\t\tself.curr_size += 1\n",
    "\t\t\t\telif node2.getKey() == key:\n",
    "\t\t\t\t\tnode2.setVal(val)\n",
    "\t\t\t\telif self.doesNotExceedKnockoutLimit(node1):\n",
    "\t\t\t\t\tself._set_helper(node1)\n",
    "\t\t\t\t\tself.curr_size += 1\n",
    "\t\t\t\telse:\n",
    "\t\t\t\t\treturn False\n",
    "\t\t\telse:\n",
    "\t\t\t\tself.buckets[self.hash_one(key)] = Node(key, val, 0)\n",
    "\t\t\t\tself.curr_size += 1\n",
    "\t\treturn True\n",
    "\n",
    "\tdef get(self, key):\n",
    "\t\tnode_one = self.buckets[self.hash_one(key)]\n",
    "\t\tnode_two = self.buckets[self.hash_two(key)]\n",
    "\t\tif node_one and node_one.getKey() == key:\n",
    "\t\t\treturn self.buckets[self.hash_one(key)].getVal()\n",
    "\t\telif node_two and node_two.getKey() == key:\n",
    "\t\t\treturn self.buckets[self.hash_two(key)].getVal()\n",
    "\t\telse:\n",
    "\t\t\treturn None\n",
    "\t\n",
    "\tdef delete(self, key):\n",
    "\t\tnode_one = self.buckets[self.hash_one(key)]\n",
    "\t\tnode_two = self.buckets[self.hash_two(key)]\n",
    "\t\tif node_one and node_one.getKey() == key:\n",
    "\t\t\tself.buckets[self.hash_one(key)] = None\n",
    "\t\t\tself.curr_size -= 1\n",
    "\t\t\treturn node_one\n",
    "\t\telif node_two and node_two.getKey() == key:\n",
    "\t\t\tself.buckets[self.hash_two(key)] = None\n",
    "\t\t\tself.curr_size -= 1\n",
    "\t\t\treturn node_two\n",
    "\t\telse:\n",
    "\t\t\treturn None\n",
    "\n",
    "\tdef load(self):\n",
    "\t\treturn self.curr_size / self.max_size\n",
    "\n",
    "\tdef __repr__(self):\n",
    "\t\treturn str(self.buckets)\n",
    "\n",
    "class Node:\n",
    "\tdef __init__(self, key, val, function_id):\n",
    "\t\tself.key = key\n",
    "\t\tself.val = val\n",
    "\t\tself.function = function_id\n",
    "\n",
    "\tdef getKey(self):\n",
    "\t\treturn self.key\n",
    "\n",
    "\tdef getVal(self):\n",
    "\t\treturn self.val\n",
    "\n",
    "\tdef setVal(self, val):\n",
    "\t\tself.val = val\n",
    "\n",
    "\tdef getFunction(self):\n",
    "\t\treturn self.function\n",
    "\n",
    "\tdef __repr__(self):\n",
    "\t\treturn \"(\" + self.key + \": \" + str(self.val) + \")\"\n",
    "\n"
   ]
  },
  {
   "cell_type": "code",
   "execution_count": 2,
   "metadata": {},
   "outputs": [
    {
     "data": {
      "text/plain": [
       "-109680306213239947"
      ]
     },
     "execution_count": 2,
     "metadata": {},
     "output_type": "execute_result"
    }
   ],
   "source": [
    "hash('Hello')"
   ]
  },
  {
   "cell_type": "code",
   "execution_count": 3,
   "metadata": {},
   "outputs": [
    {
     "data": {
      "text/plain": [
       "-109680306213239947"
      ]
     },
     "execution_count": 3,
     "metadata": {},
     "output_type": "execute_result"
    }
   ],
   "source": [
    "hash('Hello')"
   ]
  },
  {
   "cell_type": "code",
   "execution_count": 18,
   "metadata": {},
   "outputs": [],
   "source": [
    "ck = CuckooMap(10)"
   ]
  },
  {
   "cell_type": "code",
   "execution_count": 7,
   "metadata": {},
   "outputs": [
    {
     "data": {
      "text/plain": [
       "3"
      ]
     },
     "execution_count": 7,
     "metadata": {},
     "output_type": "execute_result"
    }
   ],
   "source": [
    "ck.hash_one('hello')"
   ]
  },
  {
   "cell_type": "code",
   "execution_count": 11,
   "metadata": {},
   "outputs": [
    {
     "data": {
      "text/plain": [
       "4"
      ]
     },
     "execution_count": 11,
     "metadata": {},
     "output_type": "execute_result"
    }
   ],
   "source": [
    "ck.hash_two('hello')"
   ]
  },
  {
   "cell_type": "code",
   "execution_count": 20,
   "metadata": {},
   "outputs": [
    {
     "name": "stdout",
     "output_type": "stream",
     "text": [
      "node 1  "
     ]
    },
    {
     "ename": "TypeError",
     "evalue": "must be str, not int",
     "output_type": "error",
     "traceback": [
      "\u001b[1;31m---------------------------------------------------------------------------\u001b[0m",
      "\u001b[1;31mTypeError\u001b[0m                                 Traceback (most recent call last)",
      "\u001b[1;32m<ipython-input-20-d880a8c7d83b>\u001b[0m in \u001b[0;36m<module>\u001b[1;34m()\u001b[0m\n\u001b[1;32m----> 1\u001b[1;33m \u001b[0mck\u001b[0m\u001b[1;33m.\u001b[0m\u001b[0mset\u001b[0m\u001b[1;33m(\u001b[0m\u001b[1;36m3\u001b[0m\u001b[1;33m,\u001b[0m\u001b[1;34m'hello'\u001b[0m\u001b[1;33m)\u001b[0m\u001b[1;33m\u001b[0m\u001b[0m\n\u001b[0m",
      "\u001b[1;32m<ipython-input-17-cd438d22cf45>\u001b[0m in \u001b[0;36mset\u001b[1;34m(self, key, val)\u001b[0m\n\u001b[0;32m     40\u001b[0m         \u001b[1;32mdef\u001b[0m \u001b[0mset\u001b[0m\u001b[1;33m(\u001b[0m\u001b[0mself\u001b[0m\u001b[1;33m,\u001b[0m \u001b[0mkey\u001b[0m\u001b[1;33m,\u001b[0m \u001b[0mval\u001b[0m\u001b[1;33m)\u001b[0m\u001b[1;33m:\u001b[0m\u001b[1;33m\u001b[0m\u001b[0m\n\u001b[0;32m     41\u001b[0m                 \u001b[0mnode1\u001b[0m \u001b[1;33m=\u001b[0m \u001b[0mself\u001b[0m\u001b[1;33m.\u001b[0m\u001b[0mbuckets\u001b[0m\u001b[1;33m[\u001b[0m\u001b[0mself\u001b[0m\u001b[1;33m.\u001b[0m\u001b[0mhash_one\u001b[0m\u001b[1;33m(\u001b[0m\u001b[0mkey\u001b[0m\u001b[1;33m)\u001b[0m\u001b[1;33m]\u001b[0m\u001b[1;33m\u001b[0m\u001b[0m\n\u001b[1;32m---> 42\u001b[1;33m                 \u001b[0mprint\u001b[0m\u001b[1;33m(\u001b[0m\u001b[1;34m'node 1 '\u001b[0m\u001b[1;33m,\u001b[0m \u001b[0mnode1\u001b[0m\u001b[1;33m)\u001b[0m\u001b[1;33m\u001b[0m\u001b[0m\n\u001b[0m\u001b[0;32m     43\u001b[0m                 \u001b[0mnode2\u001b[0m \u001b[1;33m=\u001b[0m \u001b[0mself\u001b[0m\u001b[1;33m.\u001b[0m\u001b[0mbuckets\u001b[0m\u001b[1;33m[\u001b[0m\u001b[0mself\u001b[0m\u001b[1;33m.\u001b[0m\u001b[0mhash_two\u001b[0m\u001b[1;33m(\u001b[0m\u001b[0mkey\u001b[0m\u001b[1;33m)\u001b[0m\u001b[1;33m]\u001b[0m\u001b[1;33m\u001b[0m\u001b[0m\n\u001b[0;32m     44\u001b[0m                 \u001b[0mprint\u001b[0m\u001b[1;33m(\u001b[0m\u001b[1;34m'node 2 '\u001b[0m\u001b[1;33m,\u001b[0m \u001b[0mnode1\u001b[0m\u001b[1;33m)\u001b[0m\u001b[1;33m\u001b[0m\u001b[0m\n",
      "\u001b[1;32m<ipython-input-17-cd438d22cf45>\u001b[0m in \u001b[0;36m__repr__\u001b[1;34m(self)\u001b[0m\n\u001b[0;32m    118\u001b[0m \u001b[1;33m\u001b[0m\u001b[0m\n\u001b[0;32m    119\u001b[0m         \u001b[1;32mdef\u001b[0m \u001b[0m__repr__\u001b[0m\u001b[1;33m(\u001b[0m\u001b[0mself\u001b[0m\u001b[1;33m)\u001b[0m\u001b[1;33m:\u001b[0m\u001b[1;33m\u001b[0m\u001b[0m\n\u001b[1;32m--> 120\u001b[1;33m                 \u001b[1;32mreturn\u001b[0m \u001b[1;34m\"(\"\u001b[0m \u001b[1;33m+\u001b[0m \u001b[0mself\u001b[0m\u001b[1;33m.\u001b[0m\u001b[0mkey\u001b[0m \u001b[1;33m+\u001b[0m \u001b[1;34m\": \"\u001b[0m \u001b[1;33m+\u001b[0m \u001b[0mstr\u001b[0m\u001b[1;33m(\u001b[0m\u001b[0mself\u001b[0m\u001b[1;33m.\u001b[0m\u001b[0mval\u001b[0m\u001b[1;33m)\u001b[0m \u001b[1;33m+\u001b[0m \u001b[1;34m\")\"\u001b[0m\u001b[1;33m\u001b[0m\u001b[0m\n\u001b[0m",
      "\u001b[1;31mTypeError\u001b[0m: must be str, not int"
     ]
    }
   ],
   "source": [
    "ck.set(3,'hello')"
   ]
  },
  {
   "cell_type": "code",
   "execution_count": null,
   "metadata": {},
   "outputs": [],
   "source": []
  }
 ],
 "metadata": {
  "kernelspec": {
   "display_name": "Python 3",
   "language": "python",
   "name": "python3"
  },
  "language_info": {
   "codemirror_mode": {
    "name": "ipython",
    "version": 3
   },
   "file_extension": ".py",
   "mimetype": "text/x-python",
   "name": "python",
   "nbconvert_exporter": "python",
   "pygments_lexer": "ipython3",
   "version": "3.6.5"
  }
 },
 "nbformat": 4,
 "nbformat_minor": 2
}
