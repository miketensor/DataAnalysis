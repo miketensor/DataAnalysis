{
 "cells": [
  {
   "cell_type": "code",
   "execution_count": 7,
   "metadata": {},
   "outputs": [],
   "source": [
    "#!/usr/bin/env python\n",
    "# -*- coding: utf-8 -*- \n",
    "\"\"\"\n",
    "This file contains Python implementations of greedy algorithms\n",
    "from Intro to Algorithms (Cormen et al.).\n",
    "The aim here is not efficient Python implementations \n",
    "but to duplicate the pseudo-code in the book as closely as possible.\n",
    "Also, since the goal is to help students to see how the algorithm\n",
    "works, there are print statements placed at key points in the code.\n",
    "The performance of each function is stated in the docstring, and\n",
    "loop invariants are expressed as assert statements when they\n",
    "are not too complex.\n",
    "This file contains:\n",
    "    recursive_activity_selector()\n",
    "    greedy_activity_selector()\n",
    "\"\"\"\n",
    "\n",
    "def recursive_activity_selector(s, f, k, n):\n",
    "    \"\"\"\n",
    "        Args:\n",
    "            s: a list of start times\n",
    "            f: a list of finish times\n",
    "            k: current position in\n",
    "            n: total possible activities\n",
    "        Returns:\n",
    "            A maximal set of activities that can be scheduled.\n",
    "            (We use a list to hold the set.)\n",
    "    \"\"\"\n",
    "    m = k + 1\n",
    "    while m < n and s[m] < f[k]:  # find an activity starting after our last\n",
    "                                   # finish\n",
    "        m = m + 1\n",
    "    if m < n:\n",
    "        print(\"Adding activity \" + str(m) + \" that finishes at \"\n",
    "              + str(f[m]))\n",
    "        return [m] + recursive_activity_selector(s, f, m, n)\n",
    "    else:\n",
    "        return []\n",
    "\n",
    "\n",
    "def greedy_activity_selector(s, f):\n",
    "    \"\"\"\n",
    "        Args:\n",
    "            s: a list of start times\n",
    "            f: a list of finish times\n",
    "        Returns:\n",
    "            A maximal set of activities that can be scheduled.\n",
    "            (We use a list to hold the set.)\n",
    "    \"\"\"\n",
    "    assert(len(s) == len(f))  # each start time must match a finish time\n",
    "    n = len(s)  # could be len f as well!\n",
    "    a = []\n",
    "    k = 0\n",
    "    for m in range(1, n):\n",
    "        if s[m] >= f[k]:\n",
    "            a.append('ACTIVITY START AT ' + str(s[m]) + ' FINISH AT ' + str(f[m]))\n",
    "            k = m\n",
    "    return a"
   ]
  },
  {
   "cell_type": "code",
   "execution_count": 18,
   "metadata": {},
   "outputs": [
    {
     "data": {
      "text/plain": [
       "['ACTIVITY START TIME 1 FINISH AT 4',\n",
       " 'ACTIVITY START TIME 5 FINISH AT 7',\n",
       " 'ACTIVITY START TIME 8 FINISH AT 11',\n",
       " 'ACTIVITY START TIME 12 FINISH AT 16']"
      ]
     },
     "execution_count": 18,
     "metadata": {},
     "output_type": "execute_result"
    }
   ],
   "source": [
    "import logging\n",
    "\n",
    "smalls = [1]\n",
    "smallf = [0, 4]\n",
    "\n",
    "start = [0, 1, 3, 0, 5, 3, 5, 6, 8, 8, 2, 12]\n",
    "finish = [0, 4, 5, 6, 7, 9, 9, 10, 11, 12, 14, 16]\n",
    "\n",
    "log = logging.getLogger()  # root logger\n",
    "log.setLevel(logging.INFO)\n",
    "\n",
    "greedy(start,finish)"
   ]
  },
  {
   "cell_type": "code",
   "execution_count": 17,
   "metadata": {},
   "outputs": [],
   "source": [
    "def greedy(start, finish):\n",
    "    n_activities = len(start)\n",
    "    if n_activities != len(finish):\n",
    "        raise(Exception('Size of input elements incorrect'))\n",
    "    path_greedy = []\n",
    "    k = 0\n",
    "    for i in range(n_activities):\n",
    "        if start[i]>finish[k]:\n",
    "            path_greedy.append('ACTIVITY START TIME ' + str(start[i]) + ' FINISH AT ' + str(finish[i]))\n",
    "            k = i\n",
    "    return path_greedy"
   ]
  },
  {
   "cell_type": "code",
   "execution_count": null,
   "metadata": {},
   "outputs": [],
   "source": []
  }
 ],
 "metadata": {
  "kernelspec": {
   "display_name": "Python 3",
   "language": "python",
   "name": "python3"
  },
  "language_info": {
   "codemirror_mode": {
    "name": "ipython",
    "version": 3
   },
   "file_extension": ".py",
   "mimetype": "text/x-python",
   "name": "python",
   "nbconvert_exporter": "python",
   "pygments_lexer": "ipython3",
   "version": "3.6.5"
  }
 },
 "nbformat": 4,
 "nbformat_minor": 2
}
