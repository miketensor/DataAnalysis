{
 "cells": [
  {
   "cell_type": "code",
   "execution_count": 90,
   "metadata": {},
   "outputs": [],
   "source": [
    "\n",
    "\n",
    "class CUCKOO_HASH():\n",
    "    \n",
    "    def __init__(self, size):\n",
    "        self.max_size = size\n",
    "        self.buckets = [None] * 2 * size # 2 address space\n",
    "        self.curr_size = 0\n",
    "        self.hash_functions = [self.hash_one, self.hash_two]\n",
    "\n",
    "    def hash_one(self, key):\n",
    "        return hash(key) % self.max_size # (2*self.max_size)\n",
    "    \n",
    "    def hash_two(self,key):\n",
    "        return (hash(key) - id(key) - 7) % self.max_size #(2*self.max_size)\n",
    "    \n",
    "    def get(self,key):\n",
    "        Node1 = self.buckets[self.hash_one(key)]\n",
    "        Node2 = self.buckets[self.hash_two(key)]\n",
    "        if Node1 and Node1.getKey() == key:\n",
    "            print ('Key : ' + str(key) + ' - value : ' + str(Node1.getVal()) + ' - Function : ' + str(Node1.getFunction()) )\n",
    "        elif Node2 and Node2.getKey() == key:\n",
    "            print ('Key : ' + str(key) + ' - value : ' + str(Node2.getVal()) + ' - Function : ' + str(Node2.getFunction()) )\n",
    "        else:\n",
    "            print ('not found')\n",
    "    \n",
    "    def _sethelper(self, hash_node, key, val, overwritten=False):\n",
    "        # node to move\n",
    "        # at first call corresponds to the 2nd space\n",
    "        cle_to_move = hash_node.getKey()        \n",
    "        #print('Key to Move : ' + str(cle_to_move))\n",
    "        \n",
    "        # other function\n",
    "        other_function = 1-hash_node.getFunction()\n",
    "        \n",
    "        index_to_move = self.hash_functions[other_function](cle_to_move)        \n",
    "        self.buckets[index_to_move]\n",
    "        \n",
    "        if self.buckets[index_to_move] is None:\n",
    "            # create Node\n",
    "            self.buckets[index_to_move] = Node_Hash(hash_node.getKey(), hash_node.getVal(), other_function)\n",
    "        else:\n",
    "            # recursif - on deplace en prejugeant de la place suffisante\n",
    "            node_replaced = self.buckets[index_to_move]\n",
    "            #self.buckets[index_to_move] = hash_node\n",
    "            if overwritten:\n",
    "                #print('overwritten at index ' + str(index_to_move) + ' with value ' + str(key))\n",
    "                self.buckets[index_to_move] = Node_Hash(key, val, other_function)\n",
    "                #self.buckets[index_to_move].setVal = val\n",
    "            else:\n",
    "                #print('replaced between key ' + str(hash_node.getKey()) + str(node_replaced.getKey()))\n",
    "                self.buckets[index_to_move] = hash_node\n",
    "            self._sethelper(node_replaced, key, val, False)\n",
    "                        \n",
    "    def set(self, key, val):\n",
    "        Node1 = self.buckets[self.hash_one(key)]\n",
    "        Node2 = self.buckets[self.hash_two(key)]\n",
    "        if self.curr_size >= self.max_size:\n",
    "            print('Hash dictionnary full') \n",
    "            return False\n",
    "        if Node1 :\n",
    "            if Node1.getKey() == key:\n",
    "                print('Value overwritten on 1st space')\n",
    "                Node1.setVal(val)\n",
    "                return True\n",
    "            elif Node2 and Node2.getKey() == key:\n",
    "                print('Value overwritten on 2nd space')\n",
    "                Node2.setVal(val)\n",
    "                return True\n",
    "            elif Node2 is None:\n",
    "                print('create key in 2nd space')\n",
    "                self.buckets[self.hash_one(key)] = Node_Hash(key, val, 1)\n",
    "                self.curr_size += 1\n",
    "                return True\n",
    "            else:\n",
    "                print('Issue')\n",
    "                self._sethelper(Node2, key, val, True)\n",
    "                return False\n",
    "        else:\n",
    "                print('create key in 1st space')\n",
    "                self.buckets[self.hash_one(key)] = Node_Hash(key, val, 0)\n",
    "                self.curr_size += 1\n",
    "                return True\n",
    "        \n",
    "    def __repr__(self):\n",
    "        return str(self.buckets)\n",
    "    \n",
    "class Node_Hash():\n",
    "    def __init__(self, key, val, function):\n",
    "        self.key = key\n",
    "        self.val = val\n",
    "        self.function = function\n",
    "    \n",
    "    def getVal(self):\n",
    "        return self.val\n",
    "\n",
    "    def setVal(self, val):\n",
    "        self.val = val\n",
    "    \n",
    "    def getFunction(self):\n",
    "        return self.function\n",
    "\n",
    "    def getKey(self):\n",
    "        return self.key\n",
    "    \n",
    "    def setKey(self, key):\n",
    "        self.key = key\n",
    "\n",
    "    def __repr__(self):\n",
    "        return '(' + str(self.key) + ' : ' + str(self.val) + ')'\n",
    "        "
   ]
  },
  {
   "cell_type": "code",
   "execution_count": 91,
   "metadata": {},
   "outputs": [
    {
     "name": "stdout",
     "output_type": "stream",
     "text": [
      "create key in 1st space\n",
      "create key in 1st space\n",
      "Issue\n",
      "[(a : a), (assq : assq), (bbbs : bbbs), None, None, None]\n",
      "Key : a - value : a - Function : 0\n",
      "Key : assq - value : assq - Function : 1\n",
      "Key : bbbs - value : bbbs - Function : 1\n"
     ]
    }
   ],
   "source": [
    "ck = CUCKOO_HASH(3)\n",
    "\n",
    "ck.set('a','a')\n",
    "ck.set('assq','assq')\n",
    "#print(ck)\n",
    "ck.set('bbbs','bbbs')\n",
    "print(ck)\n",
    "#ck.set('abs','hh')\n",
    "ck.get('a')\n",
    "ck.get('assq')\n",
    "ck.get('bbbs')"
   ]
  },
  {
   "cell_type": "code",
   "execution_count": 53,
   "metadata": {},
   "outputs": [
    {
     "name": "stdout",
     "output_type": "stream",
     "text": [
      "[(bbbs : bbbs), None, (bbbs : bbbs), None, None, None]\n"
     ]
    }
   ],
   "source": [
    "print(ck)"
   ]
  },
  {
   "cell_type": "code",
   "execution_count": 57,
   "metadata": {},
   "outputs": [
    {
     "name": "stdout",
     "output_type": "stream",
     "text": [
      "0\n",
      "2\n",
      "0\n",
      "2\n",
      "2\n",
      "1\n"
     ]
    }
   ],
   "source": [
    "print(ck.hash_two('bbbs'))\n",
    "print(ck.hash_one('bbbs'))\n",
    "print(ck.hash_one('a'))\n",
    "print(ck.hash_two('a'))\n",
    "print(ck.hash_one('assq'))\n",
    "print(ck.hash_two('assq'))\n"
   ]
  },
  {
   "cell_type": "code",
   "execution_count": 66,
   "metadata": {},
   "outputs": [
    {
     "name": "stdout",
     "output_type": "stream",
     "text": [
      "2\n"
     ]
    }
   ],
   "source": [
    "print(ck.hash_one('bbbs'))"
   ]
  },
  {
   "cell_type": "code",
   "execution_count": null,
   "metadata": {},
   "outputs": [],
   "source": []
  }
 ],
 "metadata": {
  "kernelspec": {
   "display_name": "Python 3",
   "language": "python",
   "name": "python3"
  },
  "language_info": {
   "codemirror_mode": {
    "name": "ipython",
    "version": 3
   },
   "file_extension": ".py",
   "mimetype": "text/x-python",
   "name": "python",
   "nbconvert_exporter": "python",
   "pygments_lexer": "ipython3",
   "version": "3.6.5"
  }
 },
 "nbformat": 4,
 "nbformat_minor": 2
}
