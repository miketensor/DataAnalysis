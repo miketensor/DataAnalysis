{
 "cells": [
  {
   "cell_type": "code",
   "execution_count": 62,
   "metadata": {},
   "outputs": [],
   "source": [
    "# Python 3\n",
    "\n",
    "class CuckooMap:\n",
    "\n",
    "\tmaxKnockout = 2000\n",
    "\n",
    "\tdef __init__(self, n):\n",
    "\t\tself.max_size = n\n",
    "\t\tself.bucket_size = 2*n\n",
    "\t\tself.curr_size = 0\n",
    "\t\tself.buckets = [None]*2*n\n",
    "\t\tself.hash_functions = [self.hash_one, self.hash_two]\n",
    "\n",
    "\tdef hash_one(self, key):\n",
    "\t\treturn hash(key) % self.bucket_size\n",
    "\n",
    "\tdef hash_two(self, key):\n",
    "\t\treturn (hash(key) - id(key) - 7) % self.bucket_size\n",
    "\n",
    "\tdef doesNotExceedKnockoutLimit(self, hash_node):\n",
    "\t\tprint('Does not Exceed')\n",
    "\t\ti = 0\n",
    "\t\tcurr_node = hash_node\n",
    "\t\tcurr_index = self.hash_functions[hash_node.getFunction()](hash_node.getKey())\n",
    "\t\twhile i < self.maxKnockout:\n",
    "\t\t\tnext_index = self.hash_functions[1-curr_node.getFunction()](curr_node.getKey())\n",
    "\t\t\tnext_node = self.buckets[next_index]\n",
    "\t\t\tif not next_node:\n",
    "\t\t\t\treturn True\n",
    "\t\t\ti += 1\n",
    "\t\t\tcurr_node = next_node\n",
    "\t\treturn False\n",
    "\n",
    "\tdef _set_helper(self, hash_node):\n",
    "\t\tother_hash_func = self.hash_functions[1 - hash_node.getFunction()]\n",
    "\t\tif self.buckets[other_hash_func(hash_node.getKey())]:\n",
    "\t\t\tother_node = self.buckets[other_hash_func(hash_node.getKey())]\n",
    "\t\t\tself.buckets[other_hash_func(hash_node.getKey())] = hash_node\n",
    "\t\t\t_set_helper(other_node)\n",
    "\n",
    "\tdef set(self, key, val):\n",
    "\t\tnode1 = self.buckets[self.hash_one(key)]\n",
    "\t\tnode2 = self.buckets[self.hash_two(key)]\n",
    "\t\tprint('curr size ' + str(self.curr_size))\n",
    "\t\tif self.curr_size >= self.max_size:\n",
    "\t\t\tif node1 and node1.getKey() == key:\n",
    "\t\t\t\tnode1.setVal(val)\n",
    "\t\t\telif node2 and node2.getKey() == key:\n",
    "\t\t\t\tnode2.setVal(val)\n",
    "\t\t\telse:\n",
    "\t\t\t\treturn False\n",
    "\t\telse:\n",
    "\t\t\tprint('Node1' + str(node1))\n",
    "\t\t\tif node1:\n",
    "\t\t\t\tif node1.getKey() == key:\n",
    "\t\t\t\t\tnode1.setVal(val)\n",
    "\t\t\t\telif not node2:\n",
    "\t\t\t\t\tself.buckets[self.hash_two(key)] = Node(key, val, 1)\n",
    "\t\t\t\t\tself.curr_size += 1\n",
    "\t\t\t\telif node2.getKey() == key:\n",
    "\t\t\t\t\tnode2.setVal(val)\n",
    "\t\t\t\telif self.doesNotExceedKnockoutLimit(node1):\n",
    "\t\t\t\t\tself._set_helper(node1)\n",
    "\t\t\t\t\tself.curr_size += 1\n",
    "\t\t\t\telse:\n",
    "\t\t\t\t\treturn False\n",
    "\t\t\telse:\n",
    "\t\t\t\tprint('Creation Node')\n",
    "\t\t\t\tself.buckets[self.hash_one(key)] = Node(key, val, 0)\n",
    "\t\t\t\tself.curr_size += 1\n",
    "\t\treturn True\n",
    "\n",
    "\tdef get(self, key):\n",
    "\t\tnode_one = self.buckets[self.hash_one(key)]\n",
    "\t\tnode_two = self.buckets[self.hash_two(key)]\n",
    "\t\tif node_one and node_one.getKey() == key:\n",
    "\t\t\treturn self.buckets[self.hash_one(key)].getVal()\n",
    "\t\telif node_two and node_two.getKey() == key:\n",
    "\t\t\treturn self.buckets[self.hash_two(key)].getVal()\n",
    "\t\telse:\n",
    "\t\t\treturn None\n",
    "\t\n",
    "\tdef delete(self, key):\n",
    "\t\tnode_one = self.buckets[self.hash_one(key)]\n",
    "\t\tnode_two = self.buckets[self.hash_two(key)]\n",
    "\t\tif node_one and node_one.getKey() == key:\n",
    "\t\t\tself.buckets[self.hash_one(key)] = None\n",
    "\t\t\tself.curr_size -= 1\n",
    "\t\t\treturn node_one\n",
    "\t\telif node_two and node_two.getKey() == key:\n",
    "\t\t\tself.buckets[self.hash_two(key)] = None\n",
    "\t\t\tself.curr_size -= 1\n",
    "\t\t\treturn node_two\n",
    "\t\telse:\n",
    "\t\t\treturn None\n",
    "\n",
    "\tdef load(self):\n",
    "\t\treturn self.curr_size / self.max_size\n",
    "\n",
    "\tdef __repr__(self):\n",
    "\t\treturn str(self.buckets)\n",
    "\n",
    "class Node:\n",
    "\tdef __init__(self, key, val, function_id):\n",
    "\t\tself.key = key\n",
    "\t\tself.val = val\n",
    "\t\tself.function = function_id\n",
    "\n",
    "\tdef getKey(self):\n",
    "\t\treturn self.key\n",
    "\n",
    "\tdef getVal(self):\n",
    "\t\treturn self.val\n",
    "\n",
    "\tdef setVal(self, val):\n",
    "\t\tself.val = val\n",
    "\n",
    "\tdef getFunction(self):\n",
    "\t\treturn self.function\n",
    "\n",
    "\tdef __repr__(self):\n",
    "\t\treturn \"(\" + str(self.key) + \": \" + str(self.val) + \")\"\n",
    "\n"
   ]
  },
  {
   "cell_type": "code",
   "execution_count": 2,
   "metadata": {},
   "outputs": [
    {
     "data": {
      "text/plain": [
       "-109680306213239947"
      ]
     },
     "execution_count": 2,
     "metadata": {},
     "output_type": "execute_result"
    }
   ],
   "source": [
    "hash('Hello')"
   ]
  },
  {
   "cell_type": "code",
   "execution_count": 3,
   "metadata": {},
   "outputs": [
    {
     "data": {
      "text/plain": [
       "-109680306213239947"
      ]
     },
     "execution_count": 3,
     "metadata": {},
     "output_type": "execute_result"
    }
   ],
   "source": [
    "hash('Hello')"
   ]
  },
  {
   "cell_type": "code",
   "execution_count": 63,
   "metadata": {},
   "outputs": [],
   "source": [
    "ck = CuckooMap(3)"
   ]
  },
  {
   "cell_type": "code",
   "execution_count": 68,
   "metadata": {},
   "outputs": [
    {
     "name": "stdout",
     "output_type": "stream",
     "text": [
      "2\n",
      "2\n",
      "0\n"
     ]
    }
   ],
   "source": [
    "print(ck.hash_one('zdd'))\n",
    "print(ck.hash_one('dd'))\n",
    "print(ck.hash_one('clezd'))"
   ]
  },
  {
   "cell_type": "code",
   "execution_count": 64,
   "metadata": {},
   "outputs": [
    {
     "name": "stdout",
     "output_type": "stream",
     "text": [
      "curr size 0\n",
      "Node1None\n",
      "Creation Node\n",
      "curr size 1\n",
      "Node1(zdd: hello)\n",
      "curr size 2\n",
      "Node1None\n",
      "Creation Node\n",
      "curr size 3\n"
     ]
    },
    {
     "data": {
      "text/plain": [
       "False"
      ]
     },
     "execution_count": 64,
     "metadata": {},
     "output_type": "execute_result"
    }
   ],
   "source": [
    "ck.set('zdd', 'hello')\n",
    "ck.set('dd', 'hello')\n",
    "ck.set('clezd', 'hello')\n",
    "ck.set('zdezz', 'hello')"
   ]
  },
  {
   "cell_type": "code",
   "execution_count": 65,
   "metadata": {},
   "outputs": [
    {
     "name": "stdout",
     "output_type": "stream",
     "text": [
      "curr size 3\n"
     ]
    },
    {
     "data": {
      "text/plain": [
       "False"
      ]
     },
     "execution_count": 65,
     "metadata": {},
     "output_type": "execute_result"
    }
   ],
   "source": [
    "ck.set('zdezz', 'hello')"
   ]
  },
  {
   "cell_type": "code",
   "execution_count": 66,
   "metadata": {},
   "outputs": [
    {
     "name": "stdout",
     "output_type": "stream",
     "text": [
      "[(clezd: hello), None, (zdd: hello), (dd: hello), None, None]\n"
     ]
    }
   ],
   "source": [
    "print(str(ck))"
   ]
  },
  {
   "cell_type": "code",
   "execution_count": null,
   "metadata": {},
   "outputs": [],
   "source": []
  }
 ],
 "metadata": {
  "kernelspec": {
   "display_name": "Python 3",
   "language": "python",
   "name": "python3"
  },
  "language_info": {
   "codemirror_mode": {
    "name": "ipython",
    "version": 3
   },
   "file_extension": ".py",
   "mimetype": "text/x-python",
   "name": "python",
   "nbconvert_exporter": "python",
   "pygments_lexer": "ipython3",
   "version": "3.6.5"
  }
 },
 "nbformat": 4,
 "nbformat_minor": 2
}
