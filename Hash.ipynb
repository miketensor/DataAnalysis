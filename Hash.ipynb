{
 "cells": [
  {
   "cell_type": "code",
   "execution_count": 6,
   "metadata": {},
   "outputs": [],
   "source": [
    "keys = ['a','b','c']\n",
    "values = [0, 1, 2]\n",
    "table = {k:v for k, v in zip(keys,values)}"
   ]
  },
  {
   "cell_type": "code",
   "execution_count": 17,
   "metadata": {},
   "outputs": [],
   "source": [
    "test  = list(map(hash,values))"
   ]
  },
  {
   "cell_type": "code",
   "execution_count": 18,
   "metadata": {},
   "outputs": [
    {
     "name": "stdout",
     "output_type": "stream",
     "text": [
      "[0, 1, 2]\n"
     ]
    }
   ],
   "source": [
    "print(test)"
   ]
  },
  {
   "cell_type": "code",
   "execution_count": null,
   "metadata": {},
   "outputs": [],
   "source": []
  },
  {
   "cell_type": "code",
   "execution_count": 73,
   "metadata": {},
   "outputs": [
    {
     "name": "stdout",
     "output_type": "stream",
     "text": [
      "je teste cet algorithme, mais je ne suis pas confiant\n",
      "je teste cet algorithme, mais je ne suis pas confiant\n",
      "NOON NONN NON NON trr hag jsh dgjzk s ss\n"
     ]
    }
   ],
   "source": [
    "import itertools\n",
    "import re\n",
    "import hashlib\n",
    "\n",
    "K=4 # size of the sentence to hash\n",
    "\n",
    "def jaccard_coeff(ens1, ens2):\n",
    "    union = set().union(ens1,ens2)\n",
    "    inter = set().intersection(ens1,ens2)\n",
    "    try :\n",
    "        return len(inter) / len(union)\n",
    "    except:\n",
    "        return float('Inf')\n",
    "\n",
    "def create_tokens(doc):\n",
    "    sh = set()\n",
    "    words  = re.sub(\"[^\\w]\", \" \", doc).split()\n",
    "    for i in range(len(words)-K):\n",
    "        tokens = words[i]\n",
    "        for x in words[i+1: i+K] :\n",
    "            tokens += \" \" + x\n",
    "        sh.add(tokens)\n",
    "    return sh\n",
    "\n",
    "docs = [\"je teste cet algorithme, mais je ne suis pas confiant\",\n",
    "       \"je teste cet algorithme, mais je ne suis pas confiant\",\n",
    "       \"NOON NONN NON NON trr hag jsh dgjzk s ss\"]\n",
    "\n",
    "shingles = []\n",
    "\n",
    "for doc in docs:\n",
    "    print(doc)\n",
    "    sh = list()\n",
    "    bucket = list()\n",
    "    sh = create_tokens(doc)\n",
    "    bucket = map(hash, sh)\n",
    "    shingles.append(list(bucket))\n",
    "    "
   ]
  },
  {
   "cell_type": "code",
   "execution_count": 74,
   "metadata": {},
   "outputs": [
    {
     "name": "stdout",
     "output_type": "stream",
     "text": [
      "[[4748703869977985894, 7065827635966475816, -349203230363462162, -5530212474019462025, -6923777117854096008, -5217981730496779713], [4748703869977985894, 7065827635966475816, -349203230363462162, -5530212474019462025, -6923777117854096008, -5217981730496779713], [-1581060003815873083, 4115678516510755461, 3045479329641006440, -5660235913741414422, 7654701969779890609, 7336975882007309755]]\n"
     ]
    }
   ],
   "source": [
    "print(shingles)"
   ]
  },
  {
   "cell_type": "code",
   "execution_count": 75,
   "metadata": {},
   "outputs": [],
   "source": [
    "combinations = list(itertools.combinations([x for x in range(len(docs))],2))"
   ]
  },
  {
   "cell_type": "code",
   "execution_count": 77,
   "metadata": {},
   "outputs": [
    {
     "name": "stdout",
     "output_type": "stream",
     "text": [
      "(0, 1)\n",
      "0.0\n",
      "(0, 2)\n",
      "0.0\n",
      "(1, 2)\n",
      "0.0\n"
     ]
    }
   ],
   "source": [
    "for combination in combinations:\n",
    "    print(combination)\n",
    "    print(jaccard_coeff(shingles[combination[0]],shingles[combination[1]]))"
   ]
  },
  {
   "cell_type": "code",
   "execution_count": 53,
   "metadata": {},
   "outputs": [
    {
     "data": {
      "text/plain": [
       "{1, 2, 3, 4}"
      ]
     },
     "execution_count": 53,
     "metadata": {},
     "output_type": "execute_result"
    }
   ],
   "source": [
    "#set([1,2,3]) | set([2,3,4])\n",
    "set().union(*[[1,2,3], [2,3,4]])\n",
    "#set([1, 2, 3, 4])"
   ]
  },
  {
   "cell_type": "code",
   "execution_count": 78,
   "metadata": {},
   "outputs": [
    {
     "data": {
      "text/plain": [
       "{-6923777117854096008,\n",
       " -5660235913741414422,\n",
       " -5530212474019462025,\n",
       " -5217981730496779713,\n",
       " -1581060003815873083,\n",
       " -349203230363462162,\n",
       " 3045479329641006440,\n",
       " 4115678516510755461,\n",
       " 4748703869977985894,\n",
       " 7065827635966475816,\n",
       " 7336975882007309755,\n",
       " 7654701969779890609}"
      ]
     },
     "execution_count": 78,
     "metadata": {},
     "output_type": "execute_result"
    }
   ],
   "source": [
    "set().union(shingles[combination[0]],shingles[combination[1]])"
   ]
  },
  {
   "cell_type": "code",
   "execution_count": 82,
   "metadata": {},
   "outputs": [
    {
     "data": {
      "text/plain": [
       "{-6923777117854096008,\n",
       " -5530212474019462025,\n",
       " -5217981730496779713,\n",
       " -349203230363462162,\n",
       " 4748703869977985894,\n",
       " 7065827635966475816}"
      ]
     },
     "execution_count": 82,
     "metadata": {},
     "output_type": "execute_result"
    }
   ],
   "source": [
    "set().union(shingles[0], shingles[1])"
   ]
  },
  {
   "cell_type": "code",
   "execution_count": 83,
   "metadata": {},
   "outputs": [
    {
     "data": {
      "text/plain": [
       "[4748703869977985894,\n",
       " 7065827635966475816,\n",
       " -349203230363462162,\n",
       " -5530212474019462025,\n",
       " -6923777117854096008,\n",
       " -5217981730496779713]"
      ]
     },
     "execution_count": 83,
     "metadata": {},
     "output_type": "execute_result"
    }
   ],
   "source": [
    "shingles[0]"
   ]
  },
  {
   "cell_type": "code",
   "execution_count": null,
   "metadata": {},
   "outputs": [],
   "source": []
  }
 ],
 "metadata": {
  "kernelspec": {
   "display_name": "Python 3",
   "language": "python",
   "name": "python3"
  },
  "language_info": {
   "codemirror_mode": {
    "name": "ipython",
    "version": 3
   },
   "file_extension": ".py",
   "mimetype": "text/x-python",
   "name": "python",
   "nbconvert_exporter": "python",
   "pygments_lexer": "ipython3",
   "version": "3.6.5"
  }
 },
 "nbformat": 4,
 "nbformat_minor": 2
}
