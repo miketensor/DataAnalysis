{
 "cells": [
  {
   "cell_type": "code",
   "execution_count": 18,
   "metadata": {},
   "outputs": [
    {
     "name": "stdout",
     "output_type": "stream",
     "text": [
      "(768, 9)\n",
      "Index(['pregnant', 'diastolic', 'triceps', 'bodymass', 'pedigree', 'age',\n",
      "       'plasma', 'serum', 'diabete'],\n",
      "      dtype='object')\n"
     ]
    }
   ],
   "source": [
    "#import data\n",
    "import pandas\n",
    "import numpy\n",
    "\n",
    "pima = pandas.read_table(\"pima.txt\", sep = \"\\t\", header = 0)\n",
    "\n",
    "print(pima.shape)\n",
    "print(pima.columns)\n",
    "\n",
    "data = pima.values #array numpy\n",
    "\n",
    "X = data[:,0:8]\n",
    "Y = data[:,8]\n",
    "\n",
    "#print(Y)"
   ]
  },
  {
   "cell_type": "code",
   "execution_count": 59,
   "metadata": {},
   "outputs": [
    {
     "name": "stdout",
     "output_type": "stream",
     "text": [
      "(763, 8)\n",
      "(5, 8)\n",
      "['positive' 'negative' 'negative' 'positive' 'negative']\n"
     ]
    }
   ],
   "source": [
    "from sklearn import model_selection\n",
    "\n",
    "#split data into two sets: training, test\n",
    "X_app, X_test, Y_app, Y_test = model_selection.train_test_split(X,Y,test_size=5,random_state=0)\n",
    "\n",
    "print(X_app.shape)\n",
    "print(X_test.shape)\n",
    "\n",
    "print(Y_test)"
   ]
  },
  {
   "cell_type": "code",
   "execution_count": 25,
   "metadata": {},
   "outputs": [
    {
     "name": "stdout",
     "output_type": "stream",
     "text": [
      "Les coefficients du modele sont:  [[ 8.75153769e-02 -1.59511103e-02  1.70428483e-03  5.18609374e-02\n",
      "   5.34696503e-01  1.24335202e-02  2.40115458e-02 -2.91586161e-04]]\n",
      "L'intercept du modele est:  [-5.13527961]\n"
     ]
    }
   ],
   "source": [
    "from sklearn.linear_model import LogisticRegression\n",
    "\n",
    "lr = LogisticRegression() #new instance\n",
    "\n",
    "modele = lr.fit(X_app,Y_app) #definition model on applicative data\n",
    "\n",
    "print(\"Les coefficients du modele sont: \", modele.coef_)\n",
    "print(\"L'intercept du modele est: \", modele.intercept_)\n",
    "\n",
    "\n"
   ]
  },
  {
   "cell_type": "code",
   "execution_count": 54,
   "metadata": {},
   "outputs": [
    {
     "name": "stdout",
     "output_type": "stream",
     "text": [
      "[[20  1]\n",
      " [ 1  8]]\n"
     ]
    },
    {
     "data": {
      "text/plain": [
       "0.8888888888888888"
      ]
     },
     "execution_count": 54,
     "metadata": {},
     "output_type": "execute_result"
    }
   ],
   "source": [
    "# Evaluate the model\n",
    "\n",
    "Y_predict = modele.predict(X_test)\n",
    "from sklearn import metrics\n",
    "\n",
    "#matrice de confusion\n",
    "cm = metrics.confusion_matrix(Y_test,Y_predict)\n",
    "print(cm)\n",
    "\n",
    "tn, fp, fn, tp = cm.ravel()\n",
    "(tn, fp, fn, tp)\n",
    "\n",
    "accuracy_score = metrics.accuracy_score(Y_test, Y_predict)\n",
    "(accuracy_score)\n",
    "\n",
    "metrics.recall_score(Y_test,Y_predict,pos_label='positive')"
   ]
  },
  {
   "cell_type": "code",
   "execution_count": 61,
   "metadata": {},
   "outputs": [
    {
     "name": "stdout",
     "output_type": "stream",
     "text": [
      "[0.5 1.  1.  1.  1. ]\n",
      "[0.2 0.4 0.6 0.8 1. ]\n"
     ]
    },
    {
     "data": {
      "image/png": "[encoded data removed]",
      "text/plain": [
       "<Figure size 432x288 with 1 Axes>"
      ]
     },
     "metadata": {},
     "output_type": "display_data"
    }
   ],
   "source": [
    "modele_all = lr.fit(X,Y)\n",
    "\n",
    "#evaluation du modele par methode cross validation\n",
    "success= model_selection.cross_val_score(lr,X,Y,cv=10) #,scoring='accuracy')\n",
    "(success)\n",
    "(success.mean())\n",
    "\n",
    "# scoring\n",
    "probas = lr.predict_proba(X_test)\n",
    "proba_pos = probas[:,1]\n",
    "\n",
    "pos = pandas.get_dummies(Y_test).values\n",
    "\n",
    "pos = pos[:,1]\n",
    "import numpy\n",
    "npos = numpy.sum(pos)\n",
    "\n",
    "index = numpy.argsort(proba_pos)\n",
    "index = index[::-1] #inverser l ordre\n",
    "\n",
    "#tri des individus (des valeurs 0/1)\n",
    "sort_pos = pos[index]\n",
    "\n",
    "#somme cumulée\n",
    "cpos = numpy.cumsum(sort_pos)\n",
    "\n",
    "#rappel\n",
    "rappel = cpos/npos\n",
    "print(rappel)\n",
    "\n",
    "#nb. obs ech.test\n",
    "n = Y_test.shape[0]\n",
    "\n",
    "#taille de cible\n",
    "taille = numpy.arange(start=1,stop=6,step=1)\n",
    "\n",
    "#passer en pourcentage\n",
    "taille = taille / n\n",
    "print(taille)\n",
    "\n",
    "#graphique\n",
    "import matplotlib.pyplot as plt\n",
    "plt.title('Courbe de gain')\n",
    "plt.xlabel('Taille de cible')\n",
    "plt.ylabel('Rappel')\n",
    "plt.xlim(0,1)\n",
    "plt.ylim(0,1)\n",
    "plt.scatter(taille,taille,marker='.',color='blue')\n",
    "plt.scatter(taille,rappel,marker='.',color='red')\n",
    "plt.show()"
   ]
  },
  {
   "cell_type": "code",
   "execution_count": null,
   "metadata": {},
   "outputs": [],
   "source": []
  }
 ],
 "metadata": {
  "kernelspec": {
   "display_name": "Python 3",
   "language": "python",
   "name": "python3"
  },
  "language_info": {
   "codemirror_mode": {
    "name": "ipython",
    "version": 3
   },
   "file_extension": ".py",
   "mimetype": "text/x-python",
   "name": "python",
   "nbconvert_exporter": "python",
   "pygments_lexer": "ipython3",
   "version": "3.6.5"
  }
 },
 "nbformat": 4,
 "nbformat_minor": 2
}
