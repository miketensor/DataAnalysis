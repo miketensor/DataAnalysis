{
 "cells": [
  {
   "cell_type": "code",
   "execution_count": 26,
   "metadata": {},
   "outputs": [
    {
     "name": "stdout",
     "output_type": "stream",
     "text": [
      "The number of rows in the dataset is 768\n"
     ]
    }
   ],
   "source": [
    "#load dataset\n",
    "import csv\n",
    "\n",
    "def load_file(file):\n",
    "    lines = csv.reader(open(file,'r'))\n",
    "    new_ds= list(lines)\n",
    "    for i in range(len(new_ds)) :\n",
    "        # convert string to float\n",
    "        new_ds[i] = [float(x) for x in new_ds[i]] \n",
    "    return new_ds\n",
    "\n",
    "filename = 'pima-indians-diabetes.data.csv'\n",
    "DataSet = load_file(filename)\n",
    "print(\"The number of rows in the dataset is {}\".format(len(DataSet)))"
   ]
  },
  {
   "cell_type": "code",
   "execution_count": 36,
   "metadata": {},
   "outputs": [
    {
     "name": "stdout",
     "output_type": "stream",
     "text": [
      "Size of the Original DataSet : 768\n",
      "Size of the Training DataSet : 729\n",
      "Size of the Test DataSet : 39\n"
     ]
    }
   ],
   "source": [
    "# split dataset between training and test sets\n",
    "import random\n",
    "import copy\n",
    "\n",
    "def split(dataset,split_ratio):\n",
    "    len_training = int(len(dataset) * split_ratio)\n",
    "    test = []\n",
    "    training = copy.deepcopy(dataset)\n",
    "    while len(training) > len_training:\n",
    "        random_index = random.randrange(len_training)\n",
    "        test.append(training.pop(random_index))\n",
    "    return training, test \n",
    "\n",
    "Training_Set, Test_Set = split(DataSet, 0.95)\n",
    "print(\"Size of the Original DataSet : {}\".format(len(DataSet)))\n",
    "print(\"Size of the Training DataSet : {}\".format(len(Training_Set)))\n",
    "print(\"Size of the Test DataSet : {}\".format(len(Test_Set)))"
   ]
  },
  {
   "cell_type": "code",
   "execution_count": 43,
   "metadata": {},
   "outputs": [
    {
     "name": "stdout",
     "output_type": "stream",
     "text": [
      "[1.0, 103.0, 30.0, 38.0, 83.0, 43.3, 0.183, 33.0, 0.0]\n"
     ]
    }
   ],
   "source": [
    "# Separate dataset by class\n",
    "\n",
    "# assumption : the last value refers to the class\n",
    "def separatedbyclass(ds):\n",
    "    separated = {} #create dictionary\n",
    "    for i in range(len(ds)):\n",
    "        vect = ds[i]\n",
    "        if vect[-1] not in separated:\n",
    "            separated[vect[-1]]=[]\n",
    "        separated[vect[-1]].append(ds[i])\n",
    "    return separated\n",
    "\n",
    "DataSet_Class = separatedbyclass(Test_Set)"
   ]
  },
  {
   "cell_type": "code",
   "execution_count": 145,
   "metadata": {},
   "outputs": [],
   "source": [
    "import math\n",
    "\n",
    "# Calculate mean\n",
    "def average(numbers):\n",
    "    return sum(numbers)/float(len(numbers))\n",
    "\n",
    "# Calculate standard deviation (=ecart type)\n",
    "def standard_deviation(numbers):\n",
    "    avg = average(numbers)\n",
    "    variance = sum([math.pow(x - avg,2) for x in numbers]) / float(len(numbers)-1)   \n",
    "    return math.sqrt(variance)"
   ]
  },
  {
   "cell_type": "code",
   "execution_count": 146,
   "metadata": {},
   "outputs": [
    {
     "name": "stdout",
     "output_type": "stream",
     "text": [
      "Attribute summaries: [(2.25, 0.9574271077563381), (21.25, 0.9574271077563381)]\n"
     ]
    }
   ],
   "source": [
    "\n",
    "#\tsummaries = [(mean(attribute), stdev(attribute)) for attribute in zip(*dataset)]\n",
    "\n",
    "# summarizing dataset\n",
    "def summarize(dataset):\n",
    "    summaries = [(average(attribute), standard_deviation(attribute)) for attribute in zip(*dataset)]\n",
    "    del summaries[-1]\n",
    "    return summaries\n",
    "\n",
    "dataset = [[1,20,0], [2,21,1], [3,22,0], [3,22,0]]\n",
    "summary = summarize(dataset)\n",
    "print('Attribute summaries: {0}'.format(summary))"
   ]
  },
  {
   "cell_type": "code",
   "execution_count": 98,
   "metadata": {},
   "outputs": [
    {
     "name": "stdout",
     "output_type": "stream",
     "text": [
      "Summary by class value: {1: [(2.0, 1.4142135623730951), (21.0, 1.4142135623730951)], 0: [(3.0, 1.4142135623730951), (21.5, 0.7071067811865476)]}\n"
     ]
    }
   ],
   "source": [
    "# summarizing dataset per class\n",
    "\n",
    "def summarizeByClass(ds):\n",
    "    separated = separatedbyclass(ds)\n",
    "    summary = {}\n",
    "    for cl, instance in separated.items():\n",
    "        summary[cl] = summarize(instance)\n",
    "    return summary\n",
    "\n",
    "dataset = [[1,20,1], [2,21,0], [3,22,1], [4,22,0]]\n",
    "summary = summarizeByClass(dataset)\n",
    "print('Summary by class value: {0}'.format(summary))\n",
    "\n",
    "#Summary by class value: \n",
    "#{0: [(3.0, 1.4142135623730951), (21.5, 0.7071067811865476)], \n",
    "#1: [(2.0, 1.4142135623730951), (21.0, 1.4142135623730951)]}"
   ]
  },
  {
   "cell_type": "code",
   "execution_count": 117,
   "metadata": {},
   "outputs": [
    {
     "name": "stdout",
     "output_type": "stream",
     "text": [
      "Probability of belonging to this class: 0.24197072451914337\n"
     ]
    }
   ],
   "source": [
    "# Calculate Gaussian Probability Density Function\n",
    "import math\n",
    "\n",
    "def gauss(x, avg, std):\n",
    "    return math.exp( - ( math.pow(x - avg ,2) / (2 * math.pow(std,2)) )  ) / ( std * math.sqrt(2 * math.pi) )\n",
    "\n",
    "x = 19\n",
    "mean = 20\n",
    "stdev = 1\n",
    "probability = gauss(x, mean, stdev)\n",
    "print('Probability of belonging to this class: {0}'.format(probability))"
   ]
  },
  {
   "cell_type": "code",
   "execution_count": 120,
   "metadata": {},
   "outputs": [
    {
     "name": "stdout",
     "output_type": "stream",
     "text": [
      "Probabilities for each class: {0: 0.7978845608028654, 1: 5.838938515829206e-05}\n"
     ]
    }
   ],
   "source": [
    "\n",
    "def calculateClassProbabilities(summaries, inputVector):\n",
    "    probabilities = {}\n",
    "    for classValue, classSummaries in summaries.items():\n",
    "        probabilities[classValue] = 1\n",
    "        for i in range(len(classSummaries)):\n",
    "            mean, stdev = classSummaries[i]\n",
    "            x = inputVector[i]\n",
    "            probabilities[classValue] *= gauss(x, mean, stdev)\n",
    "    return probabilities\n",
    "\n",
    "summaries = {0:[(1, 0.5)], 1:[(20, 5.0)]}\n",
    "inputVector = [1, 3, '?']\n",
    "probabilities = calculateClassProbabilities(summaries, inputVector)\n",
    "print('Probabilities for each class: {0}'.format(probabilities))"
   ]
  },
  {
   "cell_type": "code",
   "execution_count": 121,
   "metadata": {},
   "outputs": [
    {
     "name": "stdout",
     "output_type": "stream",
     "text": [
      "Class 0\n"
     ]
    }
   ],
   "source": [
    "# return highest probability\n",
    "def predict(summaries, inputVector):\n",
    "\tprobabilities = calculateClassProbabilities(summaries, inputVector)\n",
    "\tbestLabel, bestProb = None, -1\n",
    "\tfor classValue, probability in probabilities.items():\n",
    "\t\tif bestLabel is None or probability > bestProb:\n",
    "\t\t\tbestProb = probability\n",
    "\t\t\tbestLabel = classValue\n",
    "\treturn bestLabel\n",
    "\n",
    "print('Class {}'.format(predict(summaries, inputVector)))"
   ]
  },
  {
   "cell_type": "code",
   "execution_count": 122,
   "metadata": {},
   "outputs": [],
   "source": [
    "def getPredictions(summaries, testSet):\n",
    "\tpredictions = []\n",
    "\tfor i in range(len(testSet)):\n",
    "\t\tresult = predict(summaries, testSet[i])\n",
    "\t\tpredictions.append(result)\n",
    "\treturn predictions"
   ]
  },
  {
   "cell_type": "code",
   "execution_count": 123,
   "metadata": {},
   "outputs": [],
   "source": [
    "def getAccuracy(testSet, predictions):\n",
    "\tcorrect = 0\n",
    "\tfor x in range(len(testSet)):\n",
    "\t\tif testSet[x][-1] == predictions[x]:\n",
    "\t\t\tcorrect += 1\n",
    "\treturn (correct/float(len(testSet))) * 100.0"
   ]
  },
  {
   "cell_type": "code",
   "execution_count": 167,
   "metadata": {},
   "outputs": [
    {
     "name": "stdout",
     "output_type": "stream",
     "text": [
      "The accuracy of the Gaussian model is 74.36 %\n"
     ]
    }
   ],
   "source": [
    "#ts = separatedbyclass(Training_Set)\n",
    "summaries = summarizeByClass(Training_Set)\n",
    "predictions = getPredictions(summaries, Test_Set)\n",
    "print(\"The accuracy of the Gaussian model is %.2f %%\" % getAccuracy(Test_Set, predictions))"
   ]
  },
  {
   "cell_type": "code",
   "execution_count": null,
   "metadata": {},
   "outputs": [],
   "source": []
  }
 ],
 "metadata": {
  "kernelspec": {
   "display_name": "Python 3",
   "language": "python",
   "name": "python3"
  },
  "language_info": {
   "codemirror_mode": {
    "name": "ipython",
    "version": 3
   },
   "file_extension": ".py",
   "mimetype": "text/x-python",
   "name": "python",
   "nbconvert_exporter": "python",
   "pygments_lexer": "ipython3",
   "version": "3.6.5"
  }
 },
 "nbformat": 4,
 "nbformat_minor": 2
}
